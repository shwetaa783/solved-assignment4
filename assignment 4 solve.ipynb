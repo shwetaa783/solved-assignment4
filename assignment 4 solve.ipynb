{
 "cells": [
  {
   "cell_type": "code",
   "execution_count": 1,
   "id": "7f72f071-dd1d-435b-b0dd-f9763df888ec",
   "metadata": {},
   "outputs": [],
   "source": [
    "#print numbers from 1 to 5 using a while loop"
   ]
  },
  {
   "cell_type": "code",
   "execution_count": 2,
   "id": "c17ba76b-a731-4222-838e-6bcf4e93460b",
   "metadata": {},
   "outputs": [
    {
     "name": "stdout",
     "output_type": "stream",
     "text": [
      "2\n",
      "3\n",
      "4\n",
      "5\n"
     ]
    }
   ],
   "source": [
    "a=5\n",
    "b=1\n",
    "while a>b:\n",
    "    b=b+1\n",
    "    print(b)"
   ]
  },
  {
   "cell_type": "code",
   "execution_count": 4,
   "id": "04718445-7f73-442f-ad0a-372194dde34e",
   "metadata": {},
   "outputs": [],
   "source": [
    "#calculate the sum of numbers from 1to 10 using a while loop"
   ]
  },
  {
   "cell_type": "code",
   "execution_count": 7,
   "id": "6fcd3c5a-453d-49a0-bc4a-f821b716f68f",
   "metadata": {},
   "outputs": [
    {
     "name": "stdout",
     "output_type": "stream",
     "text": [
      "1\n",
      "3\n",
      "6\n",
      "10\n",
      "15\n",
      "21\n",
      "28\n",
      "36\n",
      "45\n"
     ]
    }
   ],
   "source": [
    "i=1\n",
    "sum=0\n",
    "while i<10:\n",
    "    sum=sum+i\n",
    "    i=i+1\n",
    "    print(sum)"
   ]
  },
  {
   "cell_type": "code",
   "execution_count": 16,
   "id": "fd787b3f-47ce-42c1-9595-ecd57733b9fc",
   "metadata": {},
   "outputs": [],
   "source": [
    "#calculate the factorial of a number using a for loop"
   ]
  },
  {
   "cell_type": "code",
   "execution_count": 1,
   "id": "42928219-a2cf-447b-9c15-e8e11242d424",
   "metadata": {},
   "outputs": [
    {
     "name": "stdin",
     "output_type": "stream",
     "text": [
      "the number 5\n"
     ]
    },
    {
     "name": "stdout",
     "output_type": "stream",
     "text": [
      "1\n",
      "2\n",
      "6\n",
      "24\n",
      "120\n"
     ]
    }
   ],
   "source": [
    "num=int(input('the number'))\n",
    "fact=1\n",
    "\n",
    "for i in range(1,num+1):\n",
    "    fact=fact*i\n",
    "    print(fact)\n"
   ]
  },
  {
   "cell_type": "code",
   "execution_count": 2,
   "id": "02b71a2b-6773-4aa1-ae63-bd04d43871ad",
   "metadata": {},
   "outputs": [],
   "source": [
    "#count the number of vowels in a string using a for loop"
   ]
  },
  {
   "cell_type": "code",
   "execution_count": 1,
   "id": "c4ee52c0-c738-444f-a1be-1e9256f707e2",
   "metadata": {},
   "outputs": [
    {
     "name": "stdin",
     "output_type": "stream",
     "text": [
      "any string hiii\n"
     ]
    },
    {
     "name": "stdout",
     "output_type": "stream",
     "text": [
      "s\n",
      "t\n",
      "r\n"
     ]
    }
   ],
   "source": [
    "string=(input('any string'))\n",
    "vowel=0\n",
    "for i in 'str':\n",
    "    if i in ('a','e','i','o','u'):    \n",
    "        vowels+=vowels\n",
    "    print(i)\n",
    "    \n",
    "            "
   ]
  },
  {
   "cell_type": "code",
   "execution_count": 2,
   "id": "53bed980-b501-425e-ba46-76f1ceab3515",
   "metadata": {},
   "outputs": [],
   "source": [
    "#print a pattern using nested loop"
   ]
  },
  {
   "cell_type": "code",
   "execution_count": 1,
   "id": "943bb758-b824-4244-b266-6ff3636f3296",
   "metadata": {},
   "outputs": [
    {
     "name": "stdout",
     "output_type": "stream",
     "text": [
      "0 1 2 3 4 5 "
     ]
    }
   ],
   "source": [
    "for i in range(6):\n",
    "    print(i, end = ' ')"
   ]
  },
  {
   "cell_type": "code",
   "execution_count": 2,
   "id": "58191a91-9a01-495a-9c5a-5ecb3bc44b2a",
   "metadata": {},
   "outputs": [],
   "source": [
    "#generate a multiplication table using nested loops"
   ]
  },
  {
   "cell_type": "code",
   "execution_count": 5,
   "id": "6c6b6adb-5679-426e-88d2-b26814ab7f9d",
   "metadata": {},
   "outputs": [
    {
     "name": "stdout",
     "output_type": "stream",
     "text": [
      "1n*22n*23n*24n*25n*26n*27n*28n*29n*210n*211n*212n*2"
     ]
    }
   ],
   "source": [
    "n=int(input('the nu"
   ]
  },
  {
   "cell_type": "code",
   "execution_count": null,
   "id": "97f99880-f8a0-4f0b-b21e-12dec2108c8d",
   "metadata": {},
   "outputs": [],
   "source": []
  }
 ],
 "metadata": {
  "kernelspec": {
   "display_name": "Python 3 (ipykernel)",
   "language": "python",
   "name": "python3"
  },
  "language_info": {
   "codemirror_mode": {
    "name": "ipython",
    "version": 3
   },
   "file_extension": ".py",
   "mimetype": "text/x-python",
   "name": "python",
   "nbconvert_exporter": "python",
   "pygments_lexer": "ipython3",
   "version": "3.10.8"
  }
 },
 "nbformat": 4,
 "nbformat_minor": 5
}
